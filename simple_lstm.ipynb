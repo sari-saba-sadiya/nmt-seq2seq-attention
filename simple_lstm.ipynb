{
 "cells": [
  {
   "cell_type": "code",
   "execution_count": 1,
   "id": "5022b757",
   "metadata": {},
   "outputs": [],
   "source": [
    "from tensorflow.keras.layers import Input, LSTM, Dense, Concatenate, TimeDistributed\n",
    "from tensorflow.keras.models import Model\n",
    "import tensorflow.keras as keras"
   ]
  },
  {
   "cell_type": "code",
   "execution_count": 2,
   "id": "b6da91dc",
   "metadata": {},
   "outputs": [],
   "source": [
    "def define_nmt(hidden_size, batch_size, en_timesteps, en_vsize, fr_timesteps, fr_vsize):\n",
    "    \"\"\" Defining a NMT model \"\"\"\n",
    "\n",
    "    # Define an input sequence and process it.\n",
    "    if batch_size:\n",
    "        encoder_inputs = Input(batch_shape=(batch_size, en_timesteps, en_vsize), name='encoder_inputs')\n",
    "        decoder_inputs = Input(batch_shape=(batch_size, fr_timesteps - 1, fr_vsize), name='decoder_inputs')\n",
    "    else:\n",
    "        encoder_inputs = Input(shape=(en_timesteps, en_vsize), name='encoder_inputs')\n",
    "        if fr_timesteps:\n",
    "            decoder_inputs = Input(shape=(fr_timesteps - 1, fr_vsize), name='decoder_inputs')\n",
    "        else:\n",
    "            decoder_inputs = Input(shape=(None, fr_vsize), name='decoder_inputs')\n",
    "\n",
    "    # Encoder LSTM\n",
    "    encoder_lstm = LSTM(hidden_size, return_sequences=True, return_state=True, name='encoder_gru')\n",
    "    encoder_out, encoder_state, encoder_c = encoder_lstm(encoder_inputs)\n",
    "\n",
    "    # Set up the decoder GRU, using `encoder_states` as initial state.\n",
    "    decoder_lstm = LSTM(hidden_size, return_sequences=True, return_state=True, name='decoder_gru')\n",
    "    decoder_out, decoder_state, decoder_c = decoder_lstm(decoder_inputs, initial_state=[encoder_state, encoder_c])\n",
    "\n",
    "    # Attention layer\n",
    "    #attn_layer = AttentionLayer(name='attention_layer')\n",
    "    #attn_out, attn_states = attn_layer([encoder_out, decoder_out])\n",
    "\n",
    "    # Concat attention input and decoder GRU output\n",
    "    #decoder_concat_input = Concatenate(axis=-1, name='concat_layer')([decoder_out, attn_out])\n",
    "\n",
    "    # Dense layer\n",
    "    dense = Dense(fr_vsize, activation='softmax', name='softmax_layer')\n",
    "    dense_time = TimeDistributed(dense, name='time_distributed_layer')\n",
    "    decoder_pred = dense_time(decoder_out)\n",
    "\n",
    "    # Full model\n",
    "    full_model = Model(inputs=[encoder_inputs, decoder_inputs], outputs=decoder_pred)\n",
    "    full_model.compile(optimizer='adam', loss='categorical_crossentropy')\n",
    "\n",
    "    full_model.summary()\n",
    "\n",
    "    \"\"\" Inference model \"\"\"\n",
    "    batch_size = 1\n",
    "\n",
    "    \"\"\" Encoder (Inference) model \"\"\"\n",
    "    encoder_inf_inputs = Input(batch_shape=(batch_size, en_timesteps, en_vsize), name='encoder_inf_inputs')\n",
    "    en_output, en_state_h, en_state_c = encoder_lstm(encoder_inf_inputs)\n",
    "    encoder_model = Model(inputs=encoder_inf_inputs, outputs=[en_output, en_state_h, en_state_c])\n",
    "\n",
    "    \"\"\" Decoder (Inference) model \"\"\"\n",
    "    decoder_inf_inputs = Input(batch_shape=(batch_size, 1, fr_vsize), name='decoder_word_inputs')\n",
    "    encoder_inf_states = Input(batch_shape=(batch_size, en_timesteps, hidden_size), name='encoder_inf_states')\n",
    "    #encoder_inf_c = Input(batch_shape=(batch_size, en_timesteps, hidden_size), name='encoder_inf_c')\n",
    "    decoder_init_state_h = Input(batch_shape=(batch_size, hidden_size), name='decoder_init_h')\n",
    "    decoder_init_state_c = Input(batch_shape=(batch_size, hidden_size), name='decoder_init_c')\n",
    "\n",
    "    decoder_inf_out, decoder_inf_state, decoder_inf_c = decoder_lstm(decoder_inf_inputs, \n",
    "                                                      initial_state=[decoder_init_state_h,decoder_init_state_c])\n",
    "    #attn_inf_out, attn_inf_states = attn_layer([encoder_inf_states, decoder_inf_out])\n",
    "    #decoder_inf_concat = Concatenate(axis=-1, name='concat')([decoder_inf_out, attn_inf_out])\n",
    "    decoder_inf_pred = TimeDistributed(dense)(decoder_inf_out)\n",
    "    decoder_model = Model(inputs=[encoder_inf_states, decoder_init_state_h,\n",
    "                                  decoder_init_state_c, decoder_inf_inputs],\n",
    "                          outputs=[decoder_inf_pred, decoder_inf_state,decoder_inf_c])\n",
    "\n",
    "    return full_model, encoder_model, decoder_model"
   ]
  },
  {
   "cell_type": "code",
   "execution_count": 103,
   "id": "42f9171b",
   "metadata": {},
   "outputs": [
    {
     "name": "stdout",
     "output_type": "stream",
     "text": [
      "Model: \"model_35\"\n",
      "__________________________________________________________________________________________________\n",
      "Layer (type)                    Output Shape         Param #     Connected to                     \n",
      "==================================================================================================\n",
      "encoder_inputs (InputLayer)     [(None, 20, 30)]     0                                            \n",
      "__________________________________________________________________________________________________\n",
      "decoder_inputs (InputLayer)     [(None, 19, 20)]     0                                            \n",
      "__________________________________________________________________________________________________\n",
      "encoder_gru (LSTM)              [(None, 20, 64), (No 24320       encoder_inputs[0][0]             \n",
      "__________________________________________________________________________________________________\n",
      "decoder_gru (LSTM)              [(None, 19, 64), (No 21760       decoder_inputs[0][0]             \n",
      "                                                                 encoder_gru[0][1]                \n",
      "                                                                 encoder_gru[0][2]                \n",
      "__________________________________________________________________________________________________\n",
      "time_distributed_layer (TimeDis (None, 19, 20)       1300        decoder_gru[0][0]                \n",
      "==================================================================================================\n",
      "Total params: 47,380\n",
      "Trainable params: 47,380\n",
      "Non-trainable params: 0\n",
      "__________________________________________________________________________________________________\n"
     ]
    }
   ],
   "source": [
    "nmt = define_nmt(64, None, 20, 30, 20, 20)"
   ]
  },
  {
   "cell_type": "code",
   "execution_count": 63,
   "id": "caac7d57",
   "metadata": {},
   "outputs": [],
   "source": [
    "from tensorflow.keras.utils import to_categorical\n",
    "import numpy as np\n",
    "import os, sys"
   ]
  },
  {
   "cell_type": "code",
   "execution_count": 64,
   "id": "eb3f0b5e",
   "metadata": {},
   "outputs": [],
   "source": [
    "from data_helper import read_data, sents2sequences, get_data"
   ]
  },
  {
   "cell_type": "code",
   "execution_count": 65,
   "id": "37867d8c",
   "metadata": {},
   "outputs": [],
   "source": [
    "from matplotlib.pyplot import plot"
   ]
  },
  {
   "cell_type": "code",
   "execution_count": 66,
   "id": "4405aefe",
   "metadata": {},
   "outputs": [],
   "source": [
    "def read_data(filename):\n",
    "    \"\"\" Reading the zip file to extract text \"\"\"\n",
    "    text = []\n",
    "    with open(filename, 'r', encoding='utf-8') as f:\n",
    "        i = 0\n",
    "        for row in f:\n",
    "            text.append(row)\n",
    "            i += 1\n",
    "    return text"
   ]
  },
  {
   "cell_type": "code",
   "execution_count": 67,
   "id": "3624883b",
   "metadata": {},
   "outputs": [],
   "source": [
    "def get_data(train_size, random_seed=100):\n",
    "\n",
    "    \"\"\" Getting randomly shuffled training / testing data \"\"\"\n",
    "    DATA_DIR = '/home/sadisari/Projects/attention_keras/data'\n",
    "    en_text = read_data(os.path.join(DATA_DIR, 'small_vocab_en.txt'))\n",
    "    fr_text = read_data(os.path.join(DATA_DIR, 'small_vocab_fr.txt'))\n",
    "\n",
    "    fr_text = ['sos ' + sent[:-1] + 'eos .'  if sent.endswith('.') else 'sos ' + sent + ' eos .' for sent in fr_text]\n",
    "\n",
    "    np.random.seed(random_seed)\n",
    "    inds = np.arange(len(en_text))\n",
    "    np.random.shuffle(inds)\n",
    "\n",
    "    train_inds = inds[:train_size]\n",
    "    test_inds = inds[train_size:]\n",
    "    tr_en_text = [en_text[ti] for ti in train_inds]\n",
    "    tr_fr_text = [fr_text[ti] for ti in train_inds]\n",
    "\n",
    "    ts_en_text = [en_text[ti] for ti in test_inds]\n",
    "    ts_fr_text = [fr_text[ti] for ti in test_inds]\n",
    "\n",
    "    return tr_en_text, tr_fr_text, ts_en_text, ts_fr_text"
   ]
  },
  {
   "cell_type": "code",
   "execution_count": 68,
   "id": "b40e02eb",
   "metadata": {},
   "outputs": [],
   "source": [
    "batch_size = 64\n",
    "hidden_size = 96\n",
    "en_timesteps, fr_timesteps = 20, 20"
   ]
  },
  {
   "cell_type": "code",
   "execution_count": 69,
   "id": "4b47366e",
   "metadata": {},
   "outputs": [],
   "source": [
    "def preprocess_data(en_tokenizer, fr_tokenizer, en_text, fr_text, en_timesteps, fr_timesteps):\n",
    "    \"\"\" Preprocessing data and getting a sequence of word indices \"\"\"\n",
    "\n",
    "    en_seq = sents2sequences(en_tokenizer, en_text, reverse=False, padding_type='pre', pad_length=en_timesteps)\n",
    "    fr_seq = sents2sequences(fr_tokenizer, fr_text, pad_length=fr_timesteps)\n",
    "    return en_seq, fr_seq"
   ]
  },
  {
   "cell_type": "code",
   "execution_count": 70,
   "id": "6b888619",
   "metadata": {},
   "outputs": [],
   "source": [
    "debug = True\n",
    "\"\"\" Hyperparameters \"\"\"\n",
    "\n",
    "train_size = 100000 if not debug else 10000\n",
    "filename = ''\n",
    "\n",
    "tr_en_text, tr_fr_text, ts_en_text, ts_fr_text = get_data(train_size=train_size)"
   ]
  },
  {
   "cell_type": "code",
   "execution_count": 71,
   "id": "abeb1416",
   "metadata": {},
   "outputs": [],
   "source": [
    "\"\"\" Defining tokenizers \"\"\"\n",
    "en_tokenizer = keras.preprocessing.text.Tokenizer(oov_token='UNK')\n",
    "en_tokenizer.fit_on_texts(tr_en_text)\n",
    "\n",
    "fr_tokenizer = keras.preprocessing.text.Tokenizer(oov_token='UNK')\n",
    "fr_tokenizer.fit_on_texts(tr_fr_text)"
   ]
  },
  {
   "cell_type": "code",
   "execution_count": 104,
   "id": "f0220172",
   "metadata": {},
   "outputs": [],
   "source": [
    "\"\"\" Getting preprocessed data \"\"\"\n",
    "en_seq, fr_seq = preprocess_data(en_tokenizer, fr_tokenizer, tr_en_text, tr_fr_text, en_timesteps, fr_timesteps)\n",
    "en_seq_tst, fr_seq_tst = preprocess_data(en_tokenizer, fr_tokenizer, ts_en_text, ts_fr_text, en_timesteps, fr_timesteps)\n",
    "\n",
    "en_vsize = max(en_tokenizer.index_word.keys()) + 1\n",
    "fr_vsize = max(fr_tokenizer.index_word.keys()) + 1"
   ]
  },
  {
   "cell_type": "code",
   "execution_count": 114,
   "id": "334e74c4",
   "metadata": {},
   "outputs": [
    {
     "name": "stdout",
     "output_type": "stream",
     "text": [
      "Model: \"model_41\"\n",
      "__________________________________________________________________________________________________\n",
      "Layer (type)                    Output Shape         Param #     Connected to                     \n",
      "==================================================================================================\n",
      "encoder_inputs (InputLayer)     [(64, 20, 199)]      0                                            \n",
      "__________________________________________________________________________________________________\n",
      "decoder_inputs (InputLayer)     [(64, 19, 315)]      0                                            \n",
      "__________________________________________________________________________________________________\n",
      "encoder_gru (LSTM)              [(64, 20, 96), (64,  113664      encoder_inputs[0][0]             \n",
      "__________________________________________________________________________________________________\n",
      "decoder_gru (LSTM)              [(64, 19, 96), (64,  158208      decoder_inputs[0][0]             \n",
      "                                                                 encoder_gru[0][1]                \n",
      "                                                                 encoder_gru[0][2]                \n",
      "__________________________________________________________________________________________________\n",
      "time_distributed_layer (TimeDis (64, 19, 315)        30555       decoder_gru[0][0]                \n",
      "==================================================================================================\n",
      "Total params: 302,427\n",
      "Trainable params: 302,427\n",
      "Non-trainable params: 0\n",
      "__________________________________________________________________________________________________\n"
     ]
    }
   ],
   "source": [
    "\"\"\" Defining the full model \"\"\"\n",
    "full_model, infer_enc_model, infer_dec_model = define_nmt(\n",
    "    hidden_size=hidden_size, batch_size=batch_size,\n",
    "    en_timesteps=en_timesteps, fr_timesteps=fr_timesteps,\n",
    "    en_vsize=en_vsize, fr_vsize=fr_vsize)"
   ]
  },
  {
   "cell_type": "code",
   "execution_count": 106,
   "id": "d33aa38d",
   "metadata": {},
   "outputs": [],
   "source": [
    "tst_en_onehot_seq = to_categorical(en_seq_tst[:batch_size, :], num_classes=en_vsize)\n",
    "tst_fr_onehot_seq = to_categorical(fr_seq_tst[:batch_size, :], num_classes=fr_vsize)"
   ]
  },
  {
   "cell_type": "code",
   "execution_count": 107,
   "id": "f5943789",
   "metadata": {},
   "outputs": [],
   "source": [
    "#en_onehot_seq.shape"
   ]
  },
  {
   "cell_type": "code",
   "execution_count": 115,
   "id": "635c5389",
   "metadata": {},
   "outputs": [],
   "source": [
    "n_epochs = 50"
   ]
  },
  {
   "cell_type": "code",
   "execution_count": 116,
   "id": "c06a4365",
   "metadata": {},
   "outputs": [],
   "source": [
    "losses = []\n",
    "losses_val = []\n",
    "for ep in range(n_epochs):\n",
    "    for bi in range(0, en_seq.shape[0] - batch_size, batch_size):\n",
    "        en_onehot_seq = to_categorical(en_seq[bi:bi + batch_size, :], num_classes=en_vsize)\n",
    "        fr_onehot_seq = to_categorical(fr_seq[bi:bi + batch_size, :], num_classes=fr_vsize)\n",
    "        full_model.train_on_batch([en_onehot_seq, fr_onehot_seq[:, :-1, :]], fr_onehot_seq[:, 1:, :])\n",
    "        l = full_model.evaluate([en_onehot_seq, fr_onehot_seq[:, :-1, :]], fr_onehot_seq[:, 1:, :],\n",
    "                                batch_size=batch_size, verbose=0)\n",
    "        #lv = full_model.evaluate([tst_en_onehot_seq, tst_fr_onehot_seq[:, :-1, :]], tst_fr_onehot_seq[:, 1:, :]\n",
    "        #                        , verbose=0)\n",
    "        losses.append(l)\n",
    "        #losses_val.append(lv)"
   ]
  },
  {
   "cell_type": "code",
   "execution_count": 117,
   "id": "6e8a4775",
   "metadata": {},
   "outputs": [
    {
     "data": {
      "text/plain": [
       "[<matplotlib.lines.Line2D at 0x7fd989532588>]"
      ]
     },
     "execution_count": 117,
     "metadata": {},
     "output_type": "execute_result"
    },
    {
     "data": {
      "image/png": "[encoded data removed]",
      "text/plain": [
       "<Figure size 432x288 with 1 Axes>"
      ]
     },
     "metadata": {
      "needs_background": "light"
     },
     "output_type": "display_data"
    }
   ],
   "source": [
    "plot(losses)"
   ]
  },
  {
   "cell_type": "code",
   "execution_count": 96,
   "id": "e77df2a6",
   "metadata": {},
   "outputs": [],
   "source": [
    "#plot(losses_val)"
   ]
  },
  {
   "cell_type": "code",
   "execution_count": 111,
   "id": "1ca38e37",
   "metadata": {},
   "outputs": [],
   "source": [
    "\"\"\" Index2word \"\"\"\n",
    "en_index2word = dict(zip(en_tokenizer.word_index.values(), en_tokenizer.word_index.keys()))\n",
    "fr_index2word = dict(zip(fr_tokenizer.word_index.values(), fr_tokenizer.word_index.keys()))"
   ]
  },
  {
   "cell_type": "code",
   "execution_count": 112,
   "id": "5fcc5388",
   "metadata": {},
   "outputs": [],
   "source": [
    "def infer_nmt(encoder_model, decoder_model, test_en_seq, en_vsize, fr_vsize):\n",
    "    \"\"\"\n",
    "    Infer logic\n",
    "    :param encoder_model: keras.Model\n",
    "    :param decoder_model: keras.Model\n",
    "    :param test_en_seq: sequence of word ids\n",
    "    :param en_vsize: int\n",
    "    :param fr_vsize: int\n",
    "    :return:\n",
    "    \"\"\"\n",
    "    test_fr_seq = sents2sequences(fr_tokenizer, ['sos'], fr_vsize)\n",
    "    test_en_onehot_seq = to_categorical(test_en_seq, num_classes=en_vsize)\n",
    "    test_fr_onehot_seq = np.expand_dims(to_categorical(test_fr_seq, num_classes=fr_vsize), 1)\n",
    "\n",
    "    enc_outs, enc_last_state,enc_last_c = encoder_model.predict(test_en_onehot_seq)\n",
    "    dec_state_h = enc_last_state\n",
    "    dec_state_c = enc_last_c\n",
    "    #attention_weights = []\n",
    "    fr_text = ''\n",
    "    for i in range(20):\n",
    "        dec_out, dec_state_h, dec_state_c = decoder_model.predict([enc_outs, dec_state_h, \n",
    "                                                                   dec_state_c, test_fr_onehot_seq])\n",
    "        dec_ind = np.argmax(dec_out, axis=-1)[0, 0]\n",
    "\n",
    "        if dec_ind == 0:\n",
    "            break\n",
    "        test_fr_seq = sents2sequences(fr_tokenizer, [fr_index2word[dec_ind]], fr_vsize)\n",
    "        test_fr_onehot_seq = np.expand_dims(to_categorical(test_fr_seq, num_classes=fr_vsize), 1)\n",
    "\n",
    "        #attention_weights.append((dec_ind, attention))\n",
    "        fr_text += fr_index2word[dec_ind] + ' '\n",
    "\n",
    "    return fr_text"
   ]
  },
  {
   "cell_type": "code",
   "execution_count": 122,
   "id": "603c50c2",
   "metadata": {},
   "outputs": [
    {
     "name": "stdout",
     "output_type": "stream",
     "text": [
      "Translating: france is never nice during spring , but it is usually mild in november .\n",
      "\n",
      "\tFrench: la france est jamais généralement calme en avril mais il est habituellement chaud eos \n"
     ]
    }
   ],
   "source": [
    "\"\"\" Inferring with trained model \"\"\"\n",
    "test_en = ts_en_text[2]\n",
    "print('Translating: {}'.format(test_en))\n",
    "\n",
    "test_en_seq = sents2sequences(en_tokenizer, [test_en], pad_length=en_timesteps)\n",
    "test_fr = infer_nmt(\n",
    "    encoder_model=infer_enc_model, decoder_model=infer_dec_model,\n",
    "    test_en_seq=test_en_seq, en_vsize=en_vsize, fr_vsize=fr_vsize)\n",
    "print('\\tFrench: {}'.format(test_fr))"
   ]
  },
  {
   "cell_type": "code",
   "execution_count": null,
   "id": "20178dbe",
   "metadata": {},
   "outputs": [],
   "source": []
  }
 ],
 "metadata": {
  "kernelspec": {
   "display_name": "Python 3",
   "language": "python",
   "name": "python3"
  },
  "language_info": {
   "codemirror_mode": {
    "name": "ipython",
    "version": 3
   },
   "file_extension": ".py",
   "mimetype": "text/x-python",
   "name": "python",
   "nbconvert_exporter": "python",
   "pygments_lexer": "ipython3",
   "version": "3.6.13"
  }
 },
 "nbformat": 4,
 "nbformat_minor": 5
}
