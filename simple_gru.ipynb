{
 "cells": [
  {
   "cell_type": "code",
   "execution_count": 1,
   "id": "4b2e2f90",
   "metadata": {},
   "outputs": [],
   "source": [
    "from tensorflow.keras.layers import Input, GRU, Dense, Concatenate, TimeDistributed\n",
    "from tensorflow.keras.models import Model\n",
    "import tensorflow.keras as keras"
   ]
  },
  {
   "cell_type": "code",
   "execution_count": 2,
   "id": "cd2f27aa",
   "metadata": {},
   "outputs": [],
   "source": [
    "def define_nmt(hidden_size, batch_size, en_timesteps, en_vsize, fr_timesteps, fr_vsize):\n",
    "    \"\"\" Defining a NMT model \"\"\"\n",
    "\n",
    "    # Define an input sequence and process it.\n",
    "    if batch_size:\n",
    "        encoder_inputs = Input(batch_shape=(batch_size, en_timesteps, en_vsize), name='encoder_inputs')\n",
    "        decoder_inputs = Input(batch_shape=(batch_size, fr_timesteps - 1, fr_vsize), name='decoder_inputs')\n",
    "    else:\n",
    "        encoder_inputs = Input(shape=(en_timesteps, en_vsize), name='encoder_inputs')\n",
    "        if fr_timesteps:\n",
    "            decoder_inputs = Input(shape=(fr_timesteps - 1, fr_vsize), name='decoder_inputs')\n",
    "        else:\n",
    "            decoder_inputs = Input(shape=(None, fr_vsize), name='decoder_inputs')\n",
    "\n",
    "    # Encoder GRU\n",
    "    encoder_gru = GRU(hidden_size, return_sequences=True, return_state=True, name='encoder_gru')\n",
    "    encoder_out, encoder_state = encoder_gru(encoder_inputs)\n",
    "\n",
    "    # Set up the decoder GRU, using `encoder_states` as initial state.\n",
    "    decoder_gru = GRU(hidden_size, return_sequences=True, return_state=True, name='decoder_gru')\n",
    "    decoder_out, decoder_state = decoder_gru(decoder_inputs, initial_state=encoder_state)\n",
    "\n",
    "    # Attention layer\n",
    "    #attn_layer = AttentionLayer(name='attention_layer')\n",
    "    #attn_out, attn_states = attn_layer([encoder_out, decoder_out])\n",
    "\n",
    "    # Concat attention input and decoder GRU output\n",
    "    #decoder_concat_input = Concatenate(axis=-1, name='concat_layer')([decoder_out, attn_out])\n",
    "\n",
    "    # Dense layer\n",
    "    dense = Dense(fr_vsize, activation='softmax', name='softmax_layer')\n",
    "    dense_time = TimeDistributed(dense, name='time_distributed_layer')\n",
    "    decoder_pred = dense_time(decoder_out)\n",
    "\n",
    "    # Full model\n",
    "    full_model = Model(inputs=[encoder_inputs, decoder_inputs], outputs=decoder_pred)\n",
    "    full_model.compile(optimizer='adam', loss='categorical_crossentropy')\n",
    "\n",
    "    full_model.summary()\n",
    "\n",
    "    \"\"\" Inference model \"\"\"\n",
    "    batch_size = 1\n",
    "\n",
    "    \"\"\" Encoder (Inference) model \"\"\"\n",
    "    encoder_inf_inputs = Input(batch_shape=(batch_size, en_timesteps, en_vsize), name='encoder_inf_inputs')\n",
    "    encoder_inf_out, encoder_inf_state = encoder_gru(encoder_inf_inputs)\n",
    "    encoder_model = Model(inputs=encoder_inf_inputs, outputs=[encoder_inf_out, encoder_inf_state])\n",
    "\n",
    "    \"\"\" Decoder (Inference) model \"\"\"\n",
    "    decoder_inf_inputs = Input(batch_shape=(batch_size, 1, fr_vsize), name='decoder_word_inputs')\n",
    "    #encoder_inf_states = Input(batch_shape=(batch_size, en_timesteps, hidden_size), name='encoder_inf_states')\n",
    "    decoder_init_state = Input(batch_shape=(batch_size, hidden_size), name='decoder_init')\n",
    "\n",
    "    decoder_inf_out, decoder_inf_state = decoder_gru(decoder_inf_inputs, initial_state=decoder_init_state)\n",
    "    #attn_inf_out, attn_inf_states = attn_layer([encoder_inf_states, decoder_inf_out])\n",
    "    #decoder_inf_concat = Concatenate(axis=-1, name='concat')([decoder_inf_out, attn_inf_out])\n",
    "    decoder_inf_pred = TimeDistributed(dense)(decoder_inf_out)\n",
    "    decoder_model = Model(inputs=[decoder_inf_inputs, decoder_init_state],\n",
    "                          outputs=[decoder_inf_pred, decoder_inf_state])\n",
    "\n",
    "    return full_model, encoder_model, decoder_model"
   ]
  },
  {
   "cell_type": "code",
   "execution_count": 3,
   "id": "374246f8",
   "metadata": {},
   "outputs": [
    {
     "name": "stdout",
     "output_type": "stream",
     "text": [
      "Model: \"model\"\n",
      "__________________________________________________________________________________________________\n",
      "Layer (type)                    Output Shape         Param #     Connected to                     \n",
      "==================================================================================================\n",
      "encoder_inputs (InputLayer)     [(None, 20, 30)]     0                                            \n",
      "__________________________________________________________________________________________________\n",
      "decoder_inputs (InputLayer)     [(None, 19, 20)]     0                                            \n",
      "__________________________________________________________________________________________________\n",
      "encoder_gru (GRU)               [(None, 20, 64), (No 18432       encoder_inputs[0][0]             \n",
      "__________________________________________________________________________________________________\n",
      "decoder_gru (GRU)               [(None, 19, 64), (No 16512       decoder_inputs[0][0]             \n",
      "                                                                 encoder_gru[0][1]                \n",
      "__________________________________________________________________________________________________\n",
      "time_distributed_layer (TimeDis (None, 19, 20)       1300        decoder_gru[0][0]                \n",
      "==================================================================================================\n",
      "Total params: 36,244\n",
      "Trainable params: 36,244\n",
      "Non-trainable params: 0\n",
      "__________________________________________________________________________________________________\n"
     ]
    }
   ],
   "source": [
    "nmt = define_nmt(64, None, 20, 30, 20, 20)"
   ]
  },
  {
   "cell_type": "code",
   "execution_count": 4,
   "id": "7922cb7d",
   "metadata": {},
   "outputs": [],
   "source": [
    "from tensorflow.keras.utils import to_categorical\n",
    "import numpy as np\n",
    "import os, sys"
   ]
  },
  {
   "cell_type": "code",
   "execution_count": 5,
   "id": "1c838771",
   "metadata": {},
   "outputs": [],
   "source": [
    "from data_helper import read_data, sents2sequences, get_data"
   ]
  },
  {
   "cell_type": "code",
   "execution_count": 6,
   "id": "666f1fed",
   "metadata": {},
   "outputs": [],
   "source": [
    "from matplotlib.pyplot import plot"
   ]
  },
  {
   "cell_type": "code",
   "execution_count": 7,
   "id": "f7b54802",
   "metadata": {},
   "outputs": [],
   "source": [
    "def read_data(filename):\n",
    "    \"\"\" Reading the zip file to extract text \"\"\"\n",
    "    text = []\n",
    "    with open(filename, 'r', encoding='utf-8') as f:\n",
    "        i = 0\n",
    "        for row in f:\n",
    "            text.append(row)\n",
    "            i += 1\n",
    "    return text"
   ]
  },
  {
   "cell_type": "code",
   "execution_count": 8,
   "id": "afaa19f6",
   "metadata": {},
   "outputs": [],
   "source": [
    "def get_data(train_size, random_seed=100):\n",
    "\n",
    "    \"\"\" Getting randomly shuffled training / testing data \"\"\"\n",
    "    DATA_DIR = '/home/sadisari/Projects/attention_keras/data'\n",
    "    en_text = read_data(os.path.join(DATA_DIR, 'small_vocab_en.txt'))\n",
    "    fr_text = read_data(os.path.join(DATA_DIR, 'small_vocab_fr.txt'))\n",
    "\n",
    "    fr_text = ['sos ' + sent[:-1] + 'eos .'  if sent.endswith('.') else 'sos ' + sent + ' eos .' for sent in fr_text]\n",
    "\n",
    "    np.random.seed(random_seed)\n",
    "    inds = np.arange(len(en_text))\n",
    "    np.random.shuffle(inds)\n",
    "\n",
    "    train_inds = inds[:train_size]\n",
    "    test_inds = inds[train_size:]\n",
    "    tr_en_text = [en_text[ti] for ti in train_inds]\n",
    "    tr_fr_text = [fr_text[ti] for ti in train_inds]\n",
    "\n",
    "    ts_en_text = [en_text[ti] for ti in test_inds]\n",
    "    ts_fr_text = [fr_text[ti] for ti in test_inds]\n",
    "\n",
    "    return tr_en_text, tr_fr_text, ts_en_text, ts_fr_text"
   ]
  },
  {
   "cell_type": "code",
   "execution_count": 9,
   "id": "bc67cba0",
   "metadata": {},
   "outputs": [],
   "source": [
    "batch_size = 64\n",
    "hidden_size = 96\n",
    "en_timesteps, fr_timesteps = 20, 20"
   ]
  },
  {
   "cell_type": "code",
   "execution_count": 10,
   "id": "13930fb1",
   "metadata": {},
   "outputs": [],
   "source": [
    "def preprocess_data(en_tokenizer, fr_tokenizer, en_text, fr_text, en_timesteps, fr_timesteps):\n",
    "    \"\"\" Preprocessing data and getting a sequence of word indices \"\"\"\n",
    "\n",
    "    en_seq = sents2sequences(en_tokenizer, en_text, reverse=False, padding_type='pre', pad_length=en_timesteps)\n",
    "    fr_seq = sents2sequences(fr_tokenizer, fr_text, pad_length=fr_timesteps)\n",
    "    return en_seq, fr_seq"
   ]
  },
  {
   "cell_type": "code",
   "execution_count": 11,
   "id": "e2291e7a",
   "metadata": {},
   "outputs": [],
   "source": [
    "debug = True\n",
    "\"\"\" Hyperparameters \"\"\"\n",
    "\n",
    "train_size = 100000 if not debug else 10000\n",
    "filename = ''\n",
    "\n",
    "tr_en_text, tr_fr_text, ts_en_text, ts_fr_text = get_data(train_size=train_size)"
   ]
  },
  {
   "cell_type": "code",
   "execution_count": 12,
   "id": "ff88ca01",
   "metadata": {},
   "outputs": [],
   "source": [
    "\"\"\" Defining tokenizers \"\"\"\n",
    "en_tokenizer = keras.preprocessing.text.Tokenizer(oov_token='UNK')\n",
    "en_tokenizer.fit_on_texts(tr_en_text)\n",
    "\n",
    "fr_tokenizer = keras.preprocessing.text.Tokenizer(oov_token='UNK')\n",
    "fr_tokenizer.fit_on_texts(tr_fr_text)"
   ]
  },
  {
   "cell_type": "code",
   "execution_count": 13,
   "id": "499fde16",
   "metadata": {},
   "outputs": [],
   "source": [
    "\"\"\" Getting preprocessed data \"\"\"\n",
    "en_seq, fr_seq = preprocess_data(en_tokenizer, fr_tokenizer, tr_en_text, tr_fr_text, en_timesteps, fr_timesteps)\n",
    "en_seq_tst, fr_seq_tst = preprocess_data(en_tokenizer, fr_tokenizer, ts_en_text, ts_fr_text, en_timesteps, fr_timesteps)\n",
    "\n",
    "en_vsize = max(en_tokenizer.index_word.keys()) + 1\n",
    "fr_vsize = max(fr_tokenizer.index_word.keys()) + 1"
   ]
  },
  {
   "cell_type": "code",
   "execution_count": 14,
   "id": "bc2aa2a2",
   "metadata": {},
   "outputs": [
    {
     "name": "stdout",
     "output_type": "stream",
     "text": [
      "Model: \"model_3\"\n",
      "__________________________________________________________________________________________________\n",
      "Layer (type)                    Output Shape         Param #     Connected to                     \n",
      "==================================================================================================\n",
      "encoder_inputs (InputLayer)     [(64, 20, 199)]      0                                            \n",
      "__________________________________________________________________________________________________\n",
      "decoder_inputs (InputLayer)     [(64, 19, 315)]      0                                            \n",
      "__________________________________________________________________________________________________\n",
      "encoder_gru (GRU)               [(64, 20, 96), (64,  85536       encoder_inputs[0][0]             \n",
      "__________________________________________________________________________________________________\n",
      "decoder_gru (GRU)               [(64, 19, 96), (64,  118944      decoder_inputs[0][0]             \n",
      "                                                                 encoder_gru[0][1]                \n",
      "__________________________________________________________________________________________________\n",
      "time_distributed_layer (TimeDis (64, 19, 315)        30555       decoder_gru[0][0]                \n",
      "==================================================================================================\n",
      "Total params: 235,035\n",
      "Trainable params: 235,035\n",
      "Non-trainable params: 0\n",
      "__________________________________________________________________________________________________\n"
     ]
    }
   ],
   "source": [
    "\"\"\" Defining the full model \"\"\"\n",
    "full_model, infer_enc_model, infer_dec_model = define_nmt(\n",
    "    hidden_size=hidden_size, batch_size=batch_size,\n",
    "    en_timesteps=en_timesteps, fr_timesteps=fr_timesteps,\n",
    "    en_vsize=en_vsize, fr_vsize=fr_vsize)"
   ]
  },
  {
   "cell_type": "code",
   "execution_count": 15,
   "id": "de53679d",
   "metadata": {},
   "outputs": [],
   "source": [
    "tst_en_onehot_seq = to_categorical(en_seq_tst[:batch_size, :], num_classes=en_vsize)\n",
    "tst_fr_onehot_seq = to_categorical(fr_seq_tst[:batch_size, :], num_classes=fr_vsize)"
   ]
  },
  {
   "cell_type": "code",
   "execution_count": 17,
   "id": "d0740318",
   "metadata": {},
   "outputs": [],
   "source": [
    "n_epochs = 100"
   ]
  },
  {
   "cell_type": "code",
   "execution_count": 18,
   "id": "f94f86d5",
   "metadata": {},
   "outputs": [
    {
     "name": "stdout",
     "output_type": "stream",
     "text": [
      "WARNING:tensorflow:Model was constructed with shape (64, 20, 199) for input Tensor(\"encoder_inputs_1:0\", shape=(64, 20, 199), dtype=float32), but it was called on an input with incompatible shape (32, 20, 199).\n",
      "WARNING:tensorflow:Model was constructed with shape (64, 19, 315) for input Tensor(\"decoder_inputs_1:0\", shape=(64, 19, 315), dtype=float32), but it was called on an input with incompatible shape (32, 19, 315).\n"
     ]
    }
   ],
   "source": [
    "losses = []\n",
    "losses_val = []\n",
    "for ep in range(n_epochs):\n",
    "    for bi in range(0, en_seq.shape[0] - batch_size, batch_size):\n",
    "        en_onehot_seq = to_categorical(en_seq[bi:bi + batch_size, :], num_classes=en_vsize)\n",
    "        fr_onehot_seq = to_categorical(fr_seq[bi:bi + batch_size, :], num_classes=fr_vsize)\n",
    "        full_model.train_on_batch([en_onehot_seq, fr_onehot_seq[:, :-1, :]], fr_onehot_seq[:, 1:, :])\n",
    "        l = full_model.evaluate([en_onehot_seq, fr_onehot_seq[:, :-1, :]], fr_onehot_seq[:, 1:, :],\n",
    "                                batch_size=batch_size, verbose=0)\n",
    "        lv = full_model.evaluate([tst_en_onehot_seq, tst_fr_onehot_seq[:, :-1, :]], tst_fr_onehot_seq[:, 1:, :]\n",
    "                                , verbose=0)\n",
    "        losses.append(l)\n",
    "        losses_val.append(lv)"
   ]
  },
  {
   "cell_type": "code",
   "execution_count": 21,
   "id": "535d0953",
   "metadata": {},
   "outputs": [
    {
     "data": {
      "text/plain": [
       "[<matplotlib.lines.Line2D at 0x7f1aa94c62e8>]"
      ]
     },
     "execution_count": 21,
     "metadata": {},
     "output_type": "execute_result"
    },
    {
     "data": {
      "image/png": "[encoded data removed]",
      "text/plain": [
       "<Figure size 432x288 with 1 Axes>"
      ]
     },
     "metadata": {
      "needs_background": "light"
     },
     "output_type": "display_data"
    }
   ],
   "source": [
    "plot(losses)"
   ]
  },
  {
   "cell_type": "code",
   "execution_count": 22,
   "id": "fbbc920a",
   "metadata": {},
   "outputs": [
    {
     "data": {
      "text/plain": [
       "[<matplotlib.lines.Line2D at 0x7f1aa9781f60>]"
      ]
     },
     "execution_count": 22,
     "metadata": {},
     "output_type": "execute_result"
    },
    {
     "data": {
      "image/png": "[encoded data removed]",
      "text/plain": [
       "<Figure size 432x288 with 1 Axes>"
      ]
     },
     "metadata": {
      "needs_background": "light"
     },
     "output_type": "display_data"
    }
   ],
   "source": [
    "plot(losses_val)"
   ]
  },
  {
   "cell_type": "code",
   "execution_count": 23,
   "id": "c3faf9fc",
   "metadata": {},
   "outputs": [],
   "source": [
    "\"\"\" Index2word \"\"\"\n",
    "en_index2word = dict(zip(en_tokenizer.word_index.values(), en_tokenizer.word_index.keys()))\n",
    "fr_index2word = dict(zip(fr_tokenizer.word_index.values(), fr_tokenizer.word_index.keys()))"
   ]
  },
  {
   "cell_type": "code",
   "execution_count": 24,
   "id": "888ab960",
   "metadata": {},
   "outputs": [],
   "source": [
    "def infer_nmt(encoder_model, decoder_model, test_en_seq, en_vsize, fr_vsize):\n",
    "    \"\"\"\n",
    "    Infer logic\n",
    "    :param encoder_model: keras.Model\n",
    "    :param decoder_model: keras.Model\n",
    "    :param test_en_seq: sequence of word ids\n",
    "    :param en_vsize: int\n",
    "    :param fr_vsize: int\n",
    "    :return:\n",
    "    \"\"\"\n",
    "    test_fr_seq = sents2sequences(fr_tokenizer, ['sos'], fr_vsize)\n",
    "    test_en_onehot_seq = to_categorical(test_en_seq, num_classes=en_vsize)\n",
    "    test_fr_onehot_seq = np.expand_dims(to_categorical(test_fr_seq, num_classes=fr_vsize), 1)\n",
    "\n",
    "    enc_outs, enc_last_state = encoder_model.predict(test_en_onehot_seq)\n",
    "    dec_state = enc_last_state\n",
    "    #attention_weights = []\n",
    "    #dec_in = test_fr_onehot_seq\n",
    "    fr_text = ''\n",
    "    for i in range(20):\n",
    "        dec_out, dec_state = decoder_model.predict([test_fr_onehot_seq, dec_state])\n",
    "        dec_ind = np.argmax(dec_out, axis=-1)[0, 0]\n",
    "\n",
    "        if dec_ind == 0:\n",
    "            break\n",
    "        test_fr_seq = sents2sequences(fr_tokenizer, [fr_index2word[dec_ind]], fr_vsize)\n",
    "        test_fr_onehot_seq = np.expand_dims(to_categorical(test_fr_seq, num_classes=fr_vsize), 1)\n",
    "\n",
    "        #attention_weights.append((dec_ind, attention))\n",
    "        fr_text += fr_index2word[dec_ind] + ' '\n",
    "\n",
    "    return fr_text"
   ]
  },
  {
   "cell_type": "code",
   "execution_count": 32,
   "id": "3f3a5da0",
   "metadata": {},
   "outputs": [
    {
     "name": "stdout",
     "output_type": "stream",
     "text": [
      "Translating: we like lemons , oranges , and grapes .\n",
      "\n",
      "\tFrench: paris est généralement agréable en novembre et il est généralement humide en janvier eos \n"
     ]
    }
   ],
   "source": [
    "\"\"\" Inferring with trained model \"\"\"\n",
    "test_en = ts_en_text[1]\n",
    "print('Translating: {}'.format(test_en))\n",
    "\n",
    "test_en_seq = sents2sequences(en_tokenizer, [test_en], pad_length=en_timesteps)\n",
    "test_fr = infer_nmt(\n",
    "    encoder_model=infer_enc_model, decoder_model=infer_dec_model,\n",
    "    test_en_seq=test_en_seq, en_vsize=en_vsize, fr_vsize=fr_vsize)\n",
    "print('\\tFrench: {}'.format(test_fr))"
   ]
  },
  {
   "cell_type": "code",
   "execution_count": 43,
   "id": "2af2a5ca",
   "metadata": {},
   "outputs": [],
   "source": [
    "test_en_seq = sents2sequences(en_tokenizer, [ts_en_text[0]], pad_length=en_timesteps)\n",
    "test_en_onehot_seq = to_categorical(test_en_seq, num_classes=en_vsize)"
   ]
  },
  {
   "cell_type": "code",
   "execution_count": 44,
   "id": "534b1171",
   "metadata": {},
   "outputs": [
    {
     "data": {
      "text/plain": [
       "(1, 20, 199)"
      ]
     },
     "execution_count": 44,
     "metadata": {},
     "output_type": "execute_result"
    }
   ],
   "source": [
    "test_en_onehot_seq.shape"
   ]
  },
  {
   "cell_type": "code",
   "execution_count": 45,
   "id": "a5060fa1",
   "metadata": {},
   "outputs": [],
   "source": [
    "enc_outs, enc_last_state = infer_enc_model.predict(test_en_onehot_seq)"
   ]
  },
  {
   "cell_type": "code",
   "execution_count": 49,
   "id": "dd9e16b7",
   "metadata": {},
   "outputs": [
    {
     "data": {
      "text/plain": [
       "(1, 20, 96)"
      ]
     },
     "execution_count": 49,
     "metadata": {},
     "output_type": "execute_result"
    }
   ],
   "source": [
    "enc_outs.shape"
   ]
  },
  {
   "cell_type": "code",
   "execution_count": 48,
   "id": "a2191e4e",
   "metadata": {},
   "outputs": [
    {
     "data": {
      "text/plain": [
       "(1, 96)"
      ]
     },
     "execution_count": 48,
     "metadata": {},
     "output_type": "execute_result"
    }
   ],
   "source": [
    "enc_last_state.shape"
   ]
  },
  {
   "cell_type": "code",
   "execution_count": null,
   "id": "7734ffaf",
   "metadata": {},
   "outputs": [],
   "source": []
  }
 ],
 "metadata": {
  "kernelspec": {
   "display_name": "Python 3",
   "language": "python",
   "name": "python3"
  },
  "language_info": {
   "codemirror_mode": {
    "name": "ipython",
    "version": 3
   },
   "file_extension": ".py",
   "mimetype": "text/x-python",
   "name": "python",
   "nbconvert_exporter": "python",
   "pygments_lexer": "ipython3",
   "version": "3.6.13"
  }
 },
 "nbformat": 4,
 "nbformat_minor": 5
}
