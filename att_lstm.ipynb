{
 "cells": [
  {
   "cell_type": "code",
   "execution_count": 1,
   "id": "5022b757",
   "metadata": {},
   "outputs": [],
   "source": [
    "from tensorflow.keras.layers import Input, LSTM, Dense, Concatenate, TimeDistributed, Layer\n",
    "from tensorflow.keras.models import Model\n",
    "import tensorflow.keras as keras\n",
    "from tensorflow.python.keras import backend as K\n",
    "import tensorflow as tf"
   ]
  },
  {
   "cell_type": "code",
   "execution_count": 2,
   "id": "8388be58",
   "metadata": {},
   "outputs": [],
   "source": [
    "class AttentionLayer(Layer):\n",
    "    \"\"\"\n",
    "    This class implements Bahdanau attention (https://arxiv.org/pdf/1409.0473.pdf).\n",
    "    There are three sets of weights introduced W_a, U_a, and V_a\n",
    "     \"\"\"\n",
    "\n",
    "    def __init__(self, **kwargs):\n",
    "        super(AttentionLayer, self).__init__(**kwargs)\n",
    "\n",
    "    def build(self, input_shape):\n",
    "        assert isinstance(input_shape, list)\n",
    "        # Create a trainable weight variable for this layer.\n",
    "\n",
    "        self.W_a = self.add_weight(name='W_a',\n",
    "                                   shape=tf.TensorShape((input_shape[0][2], input_shape[0][2])),\n",
    "                                   initializer='uniform',\n",
    "                                   trainable=True)\n",
    "        self.U_a = self.add_weight(name='U_a',\n",
    "                                   shape=tf.TensorShape((input_shape[1][2], input_shape[0][2])),\n",
    "                                   initializer='uniform',\n",
    "                                   trainable=True)\n",
    "        self.V_a = self.add_weight(name='V_a',\n",
    "                                   shape=tf.TensorShape((input_shape[0][2], 1)),\n",
    "                                   initializer='uniform',\n",
    "                                   trainable=True)\n",
    "\n",
    "        super(AttentionLayer, self).build(input_shape)  # Be sure to call this at the end\n",
    "\n",
    "    def call(self, inputs, verbose=False):\n",
    "        \"\"\"\n",
    "        inputs: [encoder_output_sequence, decoder_output_sequence]\n",
    "        \"\"\"\n",
    "        verbose=True\n",
    "        assert type(inputs) == list\n",
    "        encoder_out_seq, decoder_out_seq = inputs\n",
    "        if verbose:\n",
    "            print('encoder_out_seq>', encoder_out_seq.shape)\n",
    "            print('decoder_out_seq>', decoder_out_seq.shape)\n",
    "\n",
    "        def energy_step(inputs, states):\n",
    "            \"\"\" Step function for computing energy for a single decoder state\n",
    "            inputs: (batchsize * 1 * de_in_dim)\n",
    "            states: (batchsize * 1 * de_latent_dim)\n",
    "            \"\"\"\n",
    "\n",
    "            assert_msg = \"States must be an iterable. Got {} of type {}\".format(states, type(states))\n",
    "            assert isinstance(states, list) or isinstance(states, tuple), assert_msg\n",
    "\n",
    "            \"\"\" Some parameters required for shaping tensors\"\"\"\n",
    "            en_seq_len, en_hidden = encoder_out_seq.shape[1], encoder_out_seq.shape[2]\n",
    "            de_hidden = inputs.shape[-1]\n",
    "\n",
    "            \"\"\" Computing S.Wa where S=[s0, s1, ..., si]\"\"\"\n",
    "            # <= batch size * en_seq_len * latent_dim\n",
    "            W_a_dot_s = K.dot(encoder_out_seq, self.W_a)\n",
    "\n",
    "            \"\"\" Computing hj.Ua \"\"\"\n",
    "            U_a_dot_h = K.expand_dims(K.dot(inputs, self.U_a), 1)  # <= batch_size, 1, latent_dim\n",
    "            if verbose:\n",
    "                print('Ua.h>', U_a_dot_h.shape)\n",
    "                print('S.Wa>', W_a_dot_s.shape)\n",
    "                print('S.Wa>', (W_a_dot_s+U_a_dot_h).shape)\n",
    "\n",
    "            \"\"\" tanh(S.Wa + hj.Ua) \"\"\"\n",
    "            # <= batch_size*en_seq_len, latent_dim\n",
    "            Ws_plus_Uh = K.tanh(W_a_dot_s + U_a_dot_h)\n",
    "            if verbose:\n",
    "                print('Ws+Uh>', Ws_plus_Uh.shape)\n",
    "\n",
    "            \"\"\" softmax(va.tanh(S.Wa + hj.Ua)) \"\"\"\n",
    "            # <= batch_size, en_seq_len\n",
    "            e_i = K.squeeze(K.dot(Ws_plus_Uh, self.V_a), axis=-1)\n",
    "            # <= batch_size, en_seq_len\n",
    "            e_i = K.softmax(e_i)\n",
    "\n",
    "            if verbose:\n",
    "                print('ei>', e_i.shape)\n",
    "\n",
    "            return e_i, [e_i]\n",
    "\n",
    "        def context_step(inputs, states):\n",
    "            \"\"\" Step function for computing ci using ei \"\"\"\n",
    "\n",
    "            assert_msg = \"States must be an iterable. Got {} of type {}\".format(states, type(states))\n",
    "            assert isinstance(states, list) or isinstance(states, tuple), assert_msg\n",
    "\n",
    "            # <= batch_size, hidden_size\n",
    "            c_i = K.sum(encoder_out_seq * K.expand_dims(inputs, -1), axis=1)\n",
    "            if verbose:\n",
    "                print('Bi>', inputs.shape)\n",
    "                print('ci>', c_i.shape)\n",
    "            return c_i, [c_i]\n",
    "\n",
    "        fake_state_c = K.sum(encoder_out_seq, axis=1)\n",
    "        fake_state_e = K.sum(encoder_out_seq, axis=2)  # <= (batch_size, enc_seq_len, latent_dim\n",
    "\n",
    "        \"\"\" Computing energy outputs \"\"\"\n",
    "        # e_outputs => (batch_size, de_seq_len, en_seq_len)\n",
    "        last_out, e_outputs, _ = K.rnn(\n",
    "            energy_step, decoder_out_seq, [fake_state_e],\n",
    "        )\n",
    "        print('BBi>', e_outputs.shape)\n",
    "        \"\"\" Computing context vectors \"\"\"\n",
    "        last_out, c_outputs, _ = K.rnn(\n",
    "            context_step, e_outputs, [fake_state_c],\n",
    "        )\n",
    "\n",
    "        return c_outputs, e_outputs\n",
    "\n",
    "    def compute_output_shape(self, input_shape):\n",
    "        \"\"\" Outputs produced by the layer \"\"\"\n",
    "        return [\n",
    "            tf.TensorShape((input_shape[1][0], input_shape[1][1], input_shape[1][2])),\n",
    "            tf.TensorShape((input_shape[1][0], input_shape[1][1], input_shape[0][1]))\n",
    "        ]"
   ]
  },
  {
   "cell_type": "code",
   "execution_count": 3,
   "id": "b6da91dc",
   "metadata": {},
   "outputs": [],
   "source": [
    "def define_nmt(hidden_size, batch_size, en_timesteps, en_vsize, fr_timesteps, fr_vsize):\n",
    "    \"\"\" Defining a NMT model \"\"\"\n",
    "\n",
    "    # Define an input sequence and process it.\n",
    "    if batch_size:\n",
    "        encoder_inputs = Input(batch_shape=(batch_size, en_timesteps, en_vsize), name='encoder_inputs')\n",
    "        decoder_inputs = Input(batch_shape=(batch_size, fr_timesteps - 1, fr_vsize), name='decoder_inputs')\n",
    "    else:\n",
    "        encoder_inputs = Input(shape=(en_timesteps, en_vsize), name='encoder_inputs')\n",
    "        if fr_timesteps:\n",
    "            decoder_inputs = Input(shape=(fr_timesteps - 1, fr_vsize), name='decoder_inputs')\n",
    "        else:\n",
    "            decoder_inputs = Input(shape=(None, fr_vsize), name='decoder_inputs')\n",
    "\n",
    "    # Encoder LSTM\n",
    "    encoder_lstm = LSTM(hidden_size, return_sequences=True, return_state=True, name='encoder_gru')\n",
    "    encoder_out, encoder_state, encoder_c = encoder_lstm(encoder_inputs)\n",
    "\n",
    "    # Set up the decoder GRU, using `encoder_states` as initial state.\n",
    "    decoder_lstm = LSTM(hidden_size, return_sequences=True, return_state=True, name='decoder_gru')\n",
    "    decoder_out, decoder_state, decoder_c = decoder_lstm(decoder_inputs, initial_state=[encoder_state, encoder_c])\n",
    "    #print(decoder_out.shape)\n",
    "    # Attention layer\n",
    "    attn_layer = AttentionLayer(name='attention_layer')\n",
    "    attn_out, attn_states = attn_layer([encoder_out, decoder_out])\n",
    "\n",
    "    # Concat attention input and decoder GRU output\n",
    "    decoder_concat_input = Concatenate(axis=-1, name='concat_layer')([decoder_out, attn_out])\n",
    "\n",
    "    # Dense layer\n",
    "    dense = Dense(fr_vsize, activation='softmax', name='softmax_layer')\n",
    "    dense_time = TimeDistributed(dense, name='time_distributed_layer')\n",
    "    decoder_pred = dense_time(decoder_concat_input)\n",
    "\n",
    "    # Full model\n",
    "    full_model = Model(inputs=[encoder_inputs, decoder_inputs], outputs=decoder_pred)\n",
    "    full_model.compile(optimizer='adam', loss='categorical_crossentropy')\n",
    "\n",
    "    full_model.summary()\n",
    "\n",
    "    \"\"\" Inference model \"\"\"\n",
    "    batch_size = 1\n",
    "\n",
    "    \"\"\" Encoder (Inference) model \"\"\"\n",
    "    encoder_inf_inputs = Input(batch_shape=(batch_size, en_timesteps, en_vsize), name='encoder_inf_inputs')\n",
    "    en_output, en_state_h, en_state_c = encoder_lstm(encoder_inf_inputs)\n",
    "    encoder_model = Model(inputs=encoder_inf_inputs, outputs=[en_output, en_state_h, en_state_c])\n",
    "\n",
    "    \"\"\" Decoder (Inference) model \"\"\"\n",
    "    decoder_inf_inputs = Input(batch_shape=(batch_size, 1, fr_vsize), name='decoder_word_inputs')\n",
    "    encoder_inf_out = Input(batch_shape=(batch_size, en_timesteps, hidden_size), name='encoder_inf_out')\n",
    "    #encoder_inf_c = Input(batch_shape=(batch_size, en_timesteps, hidden_size), name='encoder_inf_c')\n",
    "    decoder_init_state_h = Input(batch_shape=(batch_size, hidden_size), name='decoder_init_h')\n",
    "    decoder_init_state_c = Input(batch_shape=(batch_size, hidden_size), name='decoder_init_c')\n",
    "\n",
    "    decoder_inf_out, decoder_inf_state, decoder_inf_c = decoder_lstm(decoder_inf_inputs, \n",
    "                                                      initial_state=[decoder_init_state_h,decoder_init_state_c])\n",
    "    attn_inf_out, attn_inf_states = attn_layer([encoder_inf_out, decoder_inf_out])\n",
    "    decoder_inf_concat = Concatenate(axis=-1, name='concat')([decoder_inf_out, attn_inf_out])\n",
    "    decoder_inf_pred = TimeDistributed(dense)(decoder_inf_concat)\n",
    "    decoder_model = Model(inputs=[encoder_inf_out, decoder_init_state_h,\n",
    "                                  decoder_init_state_c, decoder_inf_inputs],\n",
    "                          outputs=[decoder_inf_pred, decoder_inf_state, decoder_inf_c, attn_inf_states])\n",
    "\n",
    "    return full_model, encoder_model, decoder_model"
   ]
  },
  {
   "cell_type": "code",
   "execution_count": 4,
   "id": "42f9171b",
   "metadata": {},
   "outputs": [],
   "source": [
    "#nmt = define_nmt(64, None, 20, 30, 20, 20)"
   ]
  },
  {
   "cell_type": "code",
   "execution_count": 5,
   "id": "caac7d57",
   "metadata": {},
   "outputs": [],
   "source": [
    "from tensorflow.keras.utils import to_categorical\n",
    "import numpy as np\n",
    "import os, sys"
   ]
  },
  {
   "cell_type": "code",
   "execution_count": 6,
   "id": "eb3f0b5e",
   "metadata": {},
   "outputs": [],
   "source": [
    "from data_helper import read_data, sents2sequences, get_data"
   ]
  },
  {
   "cell_type": "code",
   "execution_count": 7,
   "id": "37867d8c",
   "metadata": {},
   "outputs": [],
   "source": [
    "from matplotlib.pyplot import plot\n",
    "import matplotlib.pyplot as plt"
   ]
  },
  {
   "cell_type": "code",
   "execution_count": 8,
   "id": "4405aefe",
   "metadata": {},
   "outputs": [],
   "source": [
    "def read_data(filename):\n",
    "    \"\"\" Reading the zip file to extract text \"\"\"\n",
    "    text = []\n",
    "    with open(filename, 'r', encoding='utf-8') as f:\n",
    "        i = 0\n",
    "        for row in f:\n",
    "            text.append(row)\n",
    "            i += 1\n",
    "    return text"
   ]
  },
  {
   "cell_type": "code",
   "execution_count": 9,
   "id": "3624883b",
   "metadata": {},
   "outputs": [],
   "source": [
    "def get_data(train_size, random_seed=100):\n",
    "\n",
    "    \"\"\" Getting randomly shuffled training / testing data \"\"\"\n",
    "    DATA_DIR = '/home/sadisari/Projects/nmt-seq2seq-attention/data'\n",
    "    en_text = read_data(os.path.join(DATA_DIR, 'en_tiny.txt'))\n",
    "    fr_text = read_data(os.path.join(DATA_DIR, 'fa_tiny.txt'))\n",
    "\n",
    "    fr_text = ['sos ' + sent[:-1] + 'eos .'  if sent.endswith('.') else 'sos ' + sent + ' eos .' for sent in fr_text]\n",
    "\n",
    "    np.random.seed(random_seed)\n",
    "    inds = np.arange(len(en_text))\n",
    "    np.random.shuffle(inds)\n",
    "\n",
    "    train_inds = inds[:train_size]\n",
    "    test_inds = inds[train_size:]\n",
    "    tr_en_text = [en_text[ti] for ti in train_inds]\n",
    "    tr_fr_text = [fr_text[ti] for ti in train_inds]\n",
    "\n",
    "    ts_en_text = [en_text[ti] for ti in test_inds]\n",
    "    ts_fr_text = [fr_text[ti] for ti in test_inds]\n",
    "\n",
    "    return tr_en_text, tr_fr_text, ts_en_text, ts_fr_text"
   ]
  },
  {
   "cell_type": "code",
   "execution_count": 10,
   "id": "b40e02eb",
   "metadata": {},
   "outputs": [],
   "source": [
    "batch_size = 64\n",
    "hidden_size = 96\n",
    "en_timesteps, fr_timesteps = 20, 20"
   ]
  },
  {
   "cell_type": "code",
   "execution_count": 11,
   "id": "4b47366e",
   "metadata": {},
   "outputs": [],
   "source": [
    "def preprocess_data(en_tokenizer, fr_tokenizer, en_text, fr_text, en_timesteps, fr_timesteps):\n",
    "    \"\"\" Preprocessing data and getting a sequence of word indices \"\"\"\n",
    "\n",
    "    en_seq = sents2sequences(en_tokenizer, en_text, reverse=False, padding_type='pre', pad_length=en_timesteps)\n",
    "    fr_seq = sents2sequences(fr_tokenizer, fr_text, pad_length=fr_timesteps)\n",
    "    return en_seq, fr_seq"
   ]
  },
  {
   "cell_type": "code",
   "execution_count": 12,
   "id": "6b888619",
   "metadata": {},
   "outputs": [],
   "source": [
    "debug = True\n",
    "\"\"\" Hyperparameters \"\"\"\n",
    "\n",
    "train_size = 3000 if not debug else 3000\n",
    "filename = ''\n",
    "\n",
    "tr_en_text, tr_fr_text, ts_en_text, ts_fr_text = get_data(train_size=train_size)"
   ]
  },
  {
   "cell_type": "code",
   "execution_count": 13,
   "id": "abeb1416",
   "metadata": {},
   "outputs": [],
   "source": [
    "\"\"\" Defining tokenizers \"\"\"\n",
    "en_tokenizer = keras.preprocessing.text.Tokenizer(oov_token='UNK')\n",
    "en_tokenizer.fit_on_texts(tr_en_text)\n",
    "\n",
    "fr_tokenizer = keras.preprocessing.text.Tokenizer(oov_token='UNK')\n",
    "fr_tokenizer.fit_on_texts(tr_fr_text)"
   ]
  },
  {
   "cell_type": "code",
   "execution_count": 14,
   "id": "f0220172",
   "metadata": {},
   "outputs": [],
   "source": [
    "\"\"\" Getting preprocessed data \"\"\"\n",
    "en_seq, fr_seq = preprocess_data(en_tokenizer, fr_tokenizer, tr_en_text, tr_fr_text, en_timesteps, fr_timesteps)\n",
    "en_seq_tst, fr_seq_tst = preprocess_data(en_tokenizer, fr_tokenizer, ts_en_text, ts_fr_text, en_timesteps, fr_timesteps)\n",
    "\n",
    "en_vsize = max(en_tokenizer.index_word.keys()) + 1\n",
    "fr_vsize = max(fr_tokenizer.index_word.keys()) + 1"
   ]
  },
  {
   "cell_type": "code",
   "execution_count": 15,
   "id": "334e74c4",
   "metadata": {},
   "outputs": [
    {
     "name": "stdout",
     "output_type": "stream",
     "text": [
      "encoder_out_seq> (64, 20, 96)\n",
      "decoder_out_seq> (64, 19, 96)\n",
      "Ua.h> (64, 1, 96)\n",
      "S.Wa> (64, 20, 96)\n",
      "S.Wa> (64, 20, 96)\n",
      "Ws+Uh> (64, 20, 96)\n",
      "ei> (64, 20)\n",
      "Ua.h> (64, 1, 96)\n",
      "S.Wa> (64, 20, 96)\n",
      "S.Wa> (64, 20, 96)\n",
      "Ws+Uh> (64, 20, 96)\n",
      "ei> (64, 20)\n",
      "BBi> (64, 19, 20)\n",
      "Bi> (64, 20)\n",
      "ci> (64, 96)\n",
      "Bi> (64, 20)\n",
      "ci> (64, 96)\n",
      "Model: \"model\"\n",
      "__________________________________________________________________________________________________\n",
      "Layer (type)                    Output Shape         Param #     Connected to                     \n",
      "==================================================================================================\n",
      "encoder_inputs (InputLayer)     [(64, 20, 192)]      0                                            \n",
      "__________________________________________________________________________________________________\n",
      "decoder_inputs (InputLayer)     [(64, 19, 270)]      0                                            \n",
      "__________________________________________________________________________________________________\n",
      "encoder_gru (LSTM)              [(64, 20, 96), (64,  110976      encoder_inputs[0][0]             \n",
      "__________________________________________________________________________________________________\n",
      "decoder_gru (LSTM)              [(64, 19, 96), (64,  140928      decoder_inputs[0][0]             \n",
      "                                                                 encoder_gru[0][1]                \n",
      "                                                                 encoder_gru[0][2]                \n",
      "__________________________________________________________________________________________________\n",
      "attention_layer (AttentionLayer ((64, 19, 96), (64,  18528       encoder_gru[0][0]                \n",
      "                                                                 decoder_gru[0][0]                \n",
      "__________________________________________________________________________________________________\n",
      "concat_layer (Concatenate)      (64, 19, 192)        0           decoder_gru[0][0]                \n",
      "                                                                 attention_layer[0][0]            \n",
      "__________________________________________________________________________________________________\n",
      "time_distributed_layer (TimeDis (64, 19, 270)        52110       concat_layer[0][0]               \n",
      "==================================================================================================\n",
      "Total params: 322,542\n",
      "Trainable params: 322,542\n",
      "Non-trainable params: 0\n",
      "__________________________________________________________________________________________________\n",
      "encoder_out_seq> (1, 20, 96)\n",
      "decoder_out_seq> (1, 1, 96)\n",
      "Ua.h> (1, 1, 96)\n",
      "S.Wa> (1, 20, 96)\n",
      "S.Wa> (1, 20, 96)\n",
      "Ws+Uh> (1, 20, 96)\n",
      "ei> (1, 20)\n",
      "Ua.h> (1, 1, 96)\n",
      "S.Wa> (1, 20, 96)\n",
      "S.Wa> (1, 20, 96)\n",
      "Ws+Uh> (1, 20, 96)\n",
      "ei> (1, 20)\n",
      "BBi> (1, 1, 20)\n",
      "Bi> (1, 20)\n",
      "ci> (1, 96)\n",
      "Bi> (1, 20)\n",
      "ci> (1, 96)\n"
     ]
    }
   ],
   "source": [
    "\"\"\" Defining the full model \"\"\"\n",
    "full_model, infer_enc_model, infer_dec_model = define_nmt(\n",
    "    hidden_size=hidden_size, batch_size=batch_size,\n",
    "    en_timesteps=en_timesteps, fr_timesteps=fr_timesteps,\n",
    "    en_vsize=en_vsize, fr_vsize=fr_vsize)"
   ]
  },
  {
   "cell_type": "code",
   "execution_count": 16,
   "id": "d33aa38d",
   "metadata": {},
   "outputs": [],
   "source": [
    "tst_en_onehot_seq = to_categorical(en_seq_tst[:batch_size, :], num_classes=en_vsize)\n",
    "tst_fr_onehot_seq = to_categorical(fr_seq_tst[:batch_size, :], num_classes=fr_vsize)"
   ]
  },
  {
   "cell_type": "code",
   "execution_count": 17,
   "id": "f5943789",
   "metadata": {},
   "outputs": [],
   "source": [
    "#en_onehot_seq.shape"
   ]
  },
  {
   "cell_type": "code",
   "execution_count": 18,
   "id": "635c5389",
   "metadata": {},
   "outputs": [],
   "source": [
    "n_epochs = 300"
   ]
  },
  {
   "cell_type": "code",
   "execution_count": 19,
   "id": "c06a4365",
   "metadata": {},
   "outputs": [
    {
     "name": "stdout",
     "output_type": "stream",
     "text": [
      "encoder_out_seq> (64, 20, 96)\n",
      "decoder_out_seq> (64, 19, 96)\n",
      "Ua.h> (64, 1, 96)\n",
      "S.Wa> (64, 20, 96)\n",
      "S.Wa> (64, 20, 96)\n",
      "Ws+Uh> (64, 20, 96)\n",
      "ei> (64, 20)\n",
      "Ua.h> (64, 1, 96)\n",
      "S.Wa> (64, 20, 96)\n",
      "S.Wa> (64, 20, 96)\n",
      "Ws+Uh> (64, 20, 96)\n",
      "ei> (64, 20)\n",
      "BBi> (64, 19, 20)\n",
      "Bi> (64, 20)\n",
      "ci> (64, 96)\n",
      "Bi> (64, 20)\n",
      "ci> (64, 96)\n",
      "encoder_out_seq> (64, 20, 96)\n",
      "decoder_out_seq> (64, 19, 96)\n",
      "Ua.h> (64, 1, 96)\n",
      "S.Wa> (64, 20, 96)\n",
      "S.Wa> (64, 20, 96)\n",
      "Ws+Uh> (64, 20, 96)\n",
      "ei> (64, 20)\n",
      "Ua.h> (64, 1, 96)\n",
      "S.Wa> (64, 20, 96)\n",
      "S.Wa> (64, 20, 96)\n",
      "Ws+Uh> (64, 20, 96)\n",
      "ei> (64, 20)\n",
      "BBi> (64, 19, 20)\n",
      "Bi> (64, 20)\n",
      "ci> (64, 96)\n",
      "Bi> (64, 20)\n",
      "ci> (64, 96)\n",
      "encoder_out_seq> (64, 20, 96)\n",
      "decoder_out_seq> (64, 19, 96)\n",
      "Ua.h> (64, 1, 96)\n",
      "S.Wa> (64, 20, 96)\n",
      "S.Wa> (64, 20, 96)\n",
      "Ws+Uh> (64, 20, 96)\n",
      "ei> (64, 20)\n",
      "Ua.h> (64, 1, 96)\n",
      "S.Wa> (64, 20, 96)\n",
      "S.Wa> (64, 20, 96)\n",
      "Ws+Uh> (64, 20, 96)\n",
      "ei> (64, 20)\n",
      "BBi> (64, 19, 20)\n",
      "Bi> (64, 20)\n",
      "ci> (64, 96)\n",
      "Bi> (64, 20)\n",
      "ci> (64, 96)\n",
      "WARNING:tensorflow:Model was constructed with shape (64, 20, 192) for input Tensor(\"encoder_inputs:0\", shape=(64, 20, 192), dtype=float32), but it was called on an input with incompatible shape (32, 20, 192).\n",
      "WARNING:tensorflow:Model was constructed with shape (64, 19, 270) for input Tensor(\"decoder_inputs:0\", shape=(64, 19, 270), dtype=float32), but it was called on an input with incompatible shape (32, 19, 270).\n",
      "encoder_out_seq> (32, 20, 96)\n",
      "decoder_out_seq> (32, 19, 96)\n",
      "Ua.h> (32, 1, 96)\n",
      "S.Wa> (32, 20, 96)\n",
      "S.Wa> (32, 20, 96)\n",
      "Ws+Uh> (32, 20, 96)\n",
      "ei> (32, 20)\n",
      "Ua.h> (32, 1, 96)\n",
      "S.Wa> (32, 20, 96)\n",
      "S.Wa> (32, 20, 96)\n",
      "Ws+Uh> (32, 20, 96)\n",
      "ei> (32, 20)\n",
      "BBi> (32, 19, 20)\n",
      "Bi> (32, 20)\n",
      "ci> (32, 96)\n",
      "Bi> (32, 20)\n",
      "ci> (32, 96)\n"
     ]
    }
   ],
   "source": [
    "losses = []\n",
    "losses_val = []\n",
    "for ep in range(n_epochs):\n",
    "    for bi in range(0, en_seq.shape[0] - batch_size, batch_size):\n",
    "        en_onehot_seq = to_categorical(en_seq[bi:bi + batch_size, :], num_classes=en_vsize)\n",
    "        fr_onehot_seq = to_categorical(fr_seq[bi:bi + batch_size, :], num_classes=fr_vsize)\n",
    "        full_model.train_on_batch([en_onehot_seq, fr_onehot_seq[:, :-1, :]], fr_onehot_seq[:, 1:, :])\n",
    "        l = full_model.evaluate([en_onehot_seq, fr_onehot_seq[:, :-1, :]], fr_onehot_seq[:, 1:, :],\n",
    "                                batch_size=batch_size, verbose=0)\n",
    "        lv = full_model.evaluate([tst_en_onehot_seq, tst_fr_onehot_seq[:, :-1, :]], tst_fr_onehot_seq[:, 1:, :]\n",
    "                                , verbose=0)\n",
    "        losses.append(l)\n",
    "        losses_val.append(lv)"
   ]
  },
  {
   "cell_type": "code",
   "execution_count": 20,
   "id": "6e8a4775",
   "metadata": {},
   "outputs": [
    {
     "data": {
      "text/plain": [
       "[<matplotlib.lines.Line2D at 0x7f828053cd30>]"
      ]
     },
     "execution_count": 20,
     "metadata": {},
     "output_type": "execute_result"
    },
    {
     "data": {
      "image/png": "[encoded data removed]",
      "text/plain": [
       "<Figure size 432x288 with 1 Axes>"
      ]
     },
     "metadata": {
      "needs_background": "light"
     },
     "output_type": "display_data"
    }
   ],
   "source": [
    "plot(losses)"
   ]
  },
  {
   "cell_type": "code",
   "execution_count": 21,
   "id": "e77df2a6",
   "metadata": {},
   "outputs": [
    {
     "data": {
      "text/plain": [
       "[<matplotlib.lines.Line2D at 0x7f8280518240>]"
      ]
     },
     "execution_count": 21,
     "metadata": {},
     "output_type": "execute_result"
    },
    {
     "data": {
      "image/png": "[encoded data removed]",
      "text/plain": [
       "<Figure size 432x288 with 1 Axes>"
      ]
     },
     "metadata": {
      "needs_background": "light"
     },
     "output_type": "display_data"
    }
   ],
   "source": [
    "plot(losses_val)"
   ]
  },
  {
   "cell_type": "code",
   "execution_count": 22,
   "id": "1ca38e37",
   "metadata": {},
   "outputs": [],
   "source": [
    "\"\"\" Index2word \"\"\"\n",
    "en_index2word = dict(zip(en_tokenizer.word_index.values(), en_tokenizer.word_index.keys()))\n",
    "fr_index2word = dict(zip(fr_tokenizer.word_index.values(), fr_tokenizer.word_index.keys()))"
   ]
  },
  {
   "cell_type": "code",
   "execution_count": 23,
   "id": "5fcc5388",
   "metadata": {},
   "outputs": [],
   "source": [
    "def infer_nmt(encoder_model, decoder_model, test_en_seq, en_vsize, fr_vsize):\n",
    "    \"\"\"\n",
    "    Infer logic\n",
    "    :param encoder_model: keras.Model\n",
    "    :param decoder_model: keras.Model\n",
    "    :param test_en_seq: sequence of word ids\n",
    "    :param en_vsize: int\n",
    "    :param fr_vsize: int\n",
    "    :return:\n",
    "    \"\"\"\n",
    "    test_fr_seq = sents2sequences(fr_tokenizer, ['sos'], fr_vsize)\n",
    "    test_en_onehot_seq = to_categorical(test_en_seq, num_classes=en_vsize)\n",
    "    test_fr_onehot_seq = np.expand_dims(to_categorical(test_fr_seq, num_classes=fr_vsize), 1)\n",
    "\n",
    "    enc_outs, enc_last_state,enc_last_c = encoder_model.predict(test_en_onehot_seq)\n",
    "    dec_state_h = enc_last_state\n",
    "    dec_state_c = enc_last_c\n",
    "    attention_weights = []\n",
    "    fr_text = ''\n",
    "    for i in range(20):\n",
    "        dec_out, dec_state_h, dec_state_c,attention = decoder_model.predict([enc_outs, dec_state_h, \n",
    "                                                                   dec_state_c, test_fr_onehot_seq])\n",
    "        dec_ind = np.argmax(dec_out, axis=-1)[0, 0]\n",
    "\n",
    "        if dec_ind == 0:\n",
    "            break\n",
    "        test_fr_seq = sents2sequences(fr_tokenizer, [fr_index2word[dec_ind]], fr_vsize)\n",
    "        test_fr_onehot_seq = np.expand_dims(to_categorical(test_fr_seq, num_classes=fr_vsize), 1)\n",
    "\n",
    "        attention_weights.append((dec_ind, attention))\n",
    "        fr_text += fr_index2word[dec_ind] + ' '\n",
    "\n",
    "    return fr_text,attention_weights"
   ]
  },
  {
   "cell_type": "code",
   "execution_count": 79,
   "id": "603c50c2",
   "metadata": {},
   "outputs": [
    {
     "name": "stdout",
     "output_type": "stream",
     "text": [
      "Translating: the united states is pleasant during may , but it is never freezing in september .\n",
      "\n",
      "\tFrench: ایالات متحده گاهی اوقات در ماه فوریه هرگز دلپذیر نیست اما گاهی اوقات در ماه سپتامبر آرام نیست \n"
     ]
    }
   ],
   "source": [
    "\"\"\" Inferring with trained model \"\"\"\n",
    "test_en = ts_en_text[400]\n",
    "print('Translating: {}'.format(test_en))\n",
    "\n",
    "test_en_seq = sents2sequences(en_tokenizer, [test_en], pad_length=en_timesteps)\n",
    "test_fr,attention_weights = infer_nmt(\n",
    "    encoder_model=infer_enc_model, decoder_model=infer_dec_model,\n",
    "    test_en_seq=test_en_seq, en_vsize=en_vsize, fr_vsize=fr_vsize)\n",
    "print('\\tFrench: {}'.format(test_fr[:-4]))"
   ]
  },
  {
   "cell_type": "code",
   "execution_count": 80,
   "id": "20178dbe",
   "metadata": {},
   "outputs": [],
   "source": [
    "def plot_attention_weights(encoder_inputs, attention_weights, en_id2word, fr_id2word, filename=None):\n",
    "    \"\"\"\n",
    "    Plots attention weights\n",
    "    :param encoder_inputs: Sequence of word ids (list/numpy.ndarray)\n",
    "    :param attention_weights: Sequence of (<word_id_at_decode_step_t>:<attention_weights_at_decode_step_t>)\n",
    "    :param en_id2word: dict\n",
    "    :param fr_id2word: dict\n",
    "    :return:\n",
    "    \"\"\"\n",
    "\n",
    "    if len(attention_weights) == 0:\n",
    "        print('Your attention weights was empty. No attention map saved to the disk. ' +\n",
    "              '\\nPlease check if the decoder produced  a proper translation')\n",
    "        return\n",
    "\n",
    "    mats = []\n",
    "    dec_inputs = []\n",
    "    for dec_ind, attn in attention_weights:\n",
    "        mats.append(attn.reshape(-1))\n",
    "        dec_inputs.append(dec_ind)\n",
    "    attention_mat = np.transpose(np.array(mats))\n",
    "\n",
    "    fig, ax = plt.subplots(figsize=(32, 32))\n",
    "    ax.imshow(attention_mat)\n",
    "\n",
    "    ax.set_xticks(np.arange(attention_mat.shape[1]))\n",
    "    ax.set_yticks(np.arange(attention_mat.shape[0]))\n",
    "\n",
    "    print(dec_inputs)\n",
    "    ax.set_xticklabels([fr_id2word[inp] if inp != 0 else \"<Res>\" for inp in dec_inputs])\n",
    "    ax.set_yticklabels([en_id2word[inp] if inp != 0 else \"<Res>\" for inp in encoder_inputs.ravel()])\n",
    "\n",
    "    ax.tick_params(labelsize=32)\n",
    "    ax.tick_params(axis='x', labelrotation=90)"
   ]
  },
  {
   "cell_type": "code",
   "execution_count": 81,
   "id": "cd1b8952",
   "metadata": {},
   "outputs": [
    {
     "name": "stdout",
     "output_type": "stream",
     "text": [
      "[46, 47, 10, 11, 2, 6, 55, 14, 88, 13, 7, 10, 11, 2, 6, 53, 31, 13, 5]\n"
     ]
    },
    {
     "data": {
      "image/png": "[encoded data removed]",
      "text/plain": [
       "<Figure size 2304x2304 with 1 Axes>"
      ]
     },
     "metadata": {
      "needs_background": "light"
     },
     "output_type": "display_data"
    }
   ],
   "source": [
    "plot_attention_weights(test_en_seq, attention_weights, en_index2word, fr_index2word)"
   ]
  },
  {
   "cell_type": "code",
   "execution_count": null,
   "id": "65c9afec",
   "metadata": {},
   "outputs": [],
   "source": []
  }
 ],
 "metadata": {
  "kernelspec": {
   "display_name": "Python 3",
   "language": "python",
   "name": "python3"
  },
  "language_info": {
   "codemirror_mode": {
    "name": "ipython",
    "version": 3
   },
   "file_extension": ".py",
   "mimetype": "text/x-python",
   "name": "python",
   "nbconvert_exporter": "python",
   "pygments_lexer": "ipython3",
   "version": "3.6.13"
  }
 },
 "nbformat": 4,
 "nbformat_minor": 5
}
